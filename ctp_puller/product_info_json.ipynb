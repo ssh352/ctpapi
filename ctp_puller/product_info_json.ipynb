{
 "cells": [
  {
   "cell_type": "code",
   "execution_count": 43,
   "metadata": {
    "collapsed": false
   },
   "outputs": [],
   "source": [
    "import sqlite3\n",
    "import pandas as pd\n",
    "\n",
    "\n",
    "conn = sqlite3.connect('test.db')\n",
    "#c = conn.cursor()\n",
    "#print \"Opened database successfully\";\n",
    "#cursor = c.execute(\"SELECT id, name, address, salary  from COMPANY\")\n",
    "df  = pd.read_sql(\"SELECT * FROM instrument\", conn)\n",
    "df = df[(df.options_type == 0) & (df.product_class == 49)]\n",
    "df.product_id =  df.product_id.apply(lambda x : x.rstrip('\\x00').lower())\n",
    "df.exchange_id = df.exchange_id.apply(lambda x : x.rstrip('\\x00'))\n",
    "df.exchange_id =  df.exchange_id.map({'DCE':'dc', 'SHFE':'sc', \"CZCE\":'zc', 'CFFEX':'zj'})\n",
    "df.groupby('product_id')['price_tick','exchange_id'].last().to_json('product_info.json',orient='index')"
   ]
  }
 ],
 "metadata": {
  "kernelspec": {
   "display_name": "Python [Root]",
   "language": "python",
   "name": "Python [Root]"
  },
  "language_info": {
   "codemirror_mode": {
    "name": "ipython",
    "version": 2
   },
   "file_extension": ".py",
   "mimetype": "text/x-python",
   "name": "python",
   "nbconvert_exporter": "python",
   "pygments_lexer": "ipython2",
   "version": "2.7.12"
  }
 },
 "nbformat": 4,
 "nbformat_minor": 0
}
